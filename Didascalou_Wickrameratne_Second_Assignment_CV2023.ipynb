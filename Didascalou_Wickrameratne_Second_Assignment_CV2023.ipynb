{
 "cells": [
  {
   "attachments": {},
   "cell_type": "markdown",
   "metadata": {},
   "source": [
    "# Imports"
   ]
  },
  {
   "cell_type": "code",
   "execution_count": 3,
   "metadata": {},
   "outputs": [],
   "source": [
    "import torch\n",
    "import torch.nn as nn\n",
    "import torchvision.transforms as transforms\n",
    "from torchvision.datasets import ImageFolder\n",
    "from torch.utils.data import DataLoader\n",
    "import torch.optim as optim\n",
    "from sklearn import metrics\n",
    "import matplotlib.pyplot as plt\n",
    "import numpy as np\n",
    "\n",
    "device = torch.device(\"cuda\" if torch.cuda.is_available() else \"cpu\")"
   ]
  },
  {
   "attachments": {},
   "cell_type": "markdown",
   "metadata": {},
   "source": [
    "# Data Preparation"
   ]
  },
  {
   "cell_type": "code",
   "execution_count": 4,
   "metadata": {},
   "outputs": [],
   "source": [
    "# Define the transformation to apply to the images\n",
    "transform = transforms.Compose([\n",
    "    transforms.ToTensor(),\n",
    "    transforms.Normalize(mean=[0.5], std=[0.5])  # Normalize the image data\n",
    "])\n",
    "\n",
    "# Load the dataset, it is already split into test and training\n",
    "train_dataset = ImageFolder('archive/train/', transform=transform)\n",
    "test_dataset = ImageFolder('archive/test/', transform=transform)\n",
    "\n",
    "# Create data loaders\n",
    "train_loader = DataLoader(train_dataset, batch_size=32, shuffle=True)\n",
    "test_loader = DataLoader(test_dataset, batch_size=32, shuffle=False)"
   ]
  },
  {
   "attachments": {},
   "cell_type": "markdown",
   "metadata": {},
   "source": [
    "# Models"
   ]
  },
  {
   "cell_type": "code",
   "execution_count": 6,
   "metadata": {},
   "outputs": [],
   "source": [
    "class Model1(nn.Module):\n",
    "    def __init__(self):\n",
    "        super(Model1, self).__init__()\n",
    "        \n",
    "        self.conv1 = nn.Conv2d(3, 16, kernel_size=3, stride=1, padding=1)\n",
    "        self.relu1 = nn.ReLU()\n",
    "        self.pool1 = nn.MaxPool2d(kernel_size=2, stride=2)\n",
    "        self.conv2 = nn.Conv2d(16, 32, kernel_size=3, stride=1, padding=1)\n",
    "        self.relu2 = nn.ReLU()\n",
    "        self.pool2 = nn.MaxPool2d(kernel_size=2, stride=2)\n",
    "        self.fc1 = nn.Linear(32 * 12 * 12, 128)\n",
    "        self.relu3 = nn.ReLU()\n",
    "        self.fc2 = nn.Linear(128, 7)\n",
    "\n",
    "    def forward(self, x):\n",
    "        x = self.conv1(x)\n",
    "        x = self.relu1(x)\n",
    "        x = self.pool1(x)\n",
    "        x = self.conv2(x)\n",
    "        x = self.relu2(x)\n",
    "        x = self.pool2(x)\n",
    "        x = x.view(x.size(0), -1)\n",
    "        x = self.fc1(x)\n",
    "        x = self.relu3(x)\n",
    "        x = self.fc2(x)\n",
    "        return x\n"
   ]
  },
  {
   "cell_type": "code",
   "execution_count": 7,
   "metadata": {},
   "outputs": [],
   "source": [
    "\n",
    "models = {\"model1\":\n",
    "          {\n",
    "            \"model\": Model1,\n",
    "            \"epochs\": 10,\n",
    "            \"learning_rate\": 0.001,\n",
    "            \"loss_function\": nn.CrossEntropyLoss,\n",
    "            \"optimiser\": optim.Adam\n",
    "          }\n",
    "}"
   ]
  },
  {
   "attachments": {},
   "cell_type": "markdown",
   "metadata": {},
   "source": [
    "# Training the models"
   ]
  },
  {
   "cell_type": "code",
   "execution_count": 8,
   "metadata": {},
   "outputs": [
    {
     "name": "stdout",
     "output_type": "stream",
     "text": [
      "Training model1...\n",
      "Epoch [1/10], Loss: 1.5601769863629926\n",
      "\n",
      "\n",
      "Epoch [2/10], Loss: 1.3366952675886303\n",
      "\n",
      "\n",
      "Epoch [3/10], Loss: 1.2040378433426133\n",
      "\n",
      "\n",
      "Epoch [4/10], Loss: 1.0740277775810132\n",
      "\n",
      "\n",
      "Epoch [5/10], Loss: 0.9366900593639748\n",
      "\n",
      "\n",
      "Epoch [6/10], Loss: 0.7957581805691687\n",
      "\n",
      "\n",
      "Epoch [7/10], Loss: 0.6552607199397013\n",
      "\n",
      "\n",
      "Epoch [8/10], Loss: 0.529562474790554\n",
      "\n",
      "\n",
      "Epoch [9/10], Loss: 0.4118900903083699\n",
      "\n",
      "\n",
      "Epoch [10/10], Loss: 0.31961917257421796\n",
      "\n",
      "\n"
     ]
    }
   ],
   "source": [
    "\n",
    "for model_name in models:\n",
    "\n",
    "    model = models[model_name][\"model\"]\n",
    "    learning_rate = models[model_name][\"learning_rate\"]\n",
    "    epochs = models[model_name][\"epochs\"]\n",
    "    loss_function = models[model_name][\"loss_function\"]()\n",
    "    optimiser = models[model_name][\"optimiser\"]\n",
    "\n",
    "    print(f\"Training {model_name}...\")\n",
    "\n",
    "    model = model()\n",
    "    \n",
    "    optimiser = optimiser(model.parameters(), lr=learning_rate)\n",
    "\n",
    "    for epoch in range(epochs):\n",
    "\n",
    "        model.train()\n",
    "        running_loss = 0.0\n",
    "\n",
    "        for images, labels in train_loader:\n",
    "\n",
    "            optimiser.zero_grad()\n",
    "\n",
    "            outputs = model(images)\n",
    "            loss = loss_function(outputs, labels)\n",
    "            loss.backward()\n",
    "            optimiser.step()\n",
    "\n",
    "            running_loss += loss.item()\n",
    "\n",
    "        # Calculate average loss for the epoch\n",
    "        epoch_loss = running_loss / len(train_loader)\n",
    "\n",
    "        # Print training progress\n",
    "        print(f\"Epoch [{epoch+1}/{epochs}], Loss: {epoch_loss}\")\n",
    "        print(\"\\n\")\n",
    "\n",
    "    # Save the trained model\n",
    "    torch.save(model.state_dict(), f\"model_saves/{model_name}.pth\")\n"
   ]
  },
  {
   "attachments": {},
   "cell_type": "markdown",
   "metadata": {},
   "source": [
    "# Computing the metrics"
   ]
  },
  {
   "cell_type": "code",
   "execution_count": 9,
   "metadata": {},
   "outputs": [],
   "source": [
    "def calculate_metrics(y_true, y_pred):\n",
    "    accuracy = metrics.accuracy_score(y_true, y_pred)\n",
    "    precision = metrics.precision_score(y_true, y_pred, average='weighted')\n",
    "    recall = metrics.recall_score(y_true, y_pred, average='weighted')\n",
    "    f1_score = metrics.f1_score(y_true, y_pred, average='weighted')\n",
    "    return accuracy, precision, recall, f1_score"
   ]
  },
  {
   "attachments": {},
   "cell_type": "markdown",
   "metadata": {},
   "source": [
    "# Assessing the models"
   ]
  },
  {
   "cell_type": "code",
   "execution_count": 10,
   "metadata": {},
   "outputs": [
    {
     "name": "stdout",
     "output_type": "stream",
     "text": [
      "Evaluating model1\n",
      "Model Name: model1\n",
      "Accuracy: 0.5186681526887712\n",
      "Precision: 0.5256003222472391\n",
      "Recall: 0.5186681526887712\n",
      "F1 Score: 0.5189659870676103\n",
      "\n"
     ]
    }
   ],
   "source": [
    "for model_name in models:\n",
    "    \n",
    "    print(f\"Evaluating {model_name}\")\n",
    "\n",
    "    model = models[model_name][\"model\"]\n",
    "    model = model()\n",
    "\n",
    "    # Load the trained model state dictionary\n",
    "    model.load_state_dict(torch.load(f\"model_saves/{model_name}.pth\"))\n",
    "\n",
    "    # Evaluation mode\n",
    "    model.eval()\n",
    "\n",
    "    # Lists to store predictions and ground truth labels\n",
    "    all_predictions = []\n",
    "    all_labels = []\n",
    "\n",
    "    # Iterate over the test dataset\n",
    "    for images, labels in test_loader:\n",
    "\n",
    "        # Forward pass: compute predicted outputs\n",
    "        outputs = model(images)\n",
    "\n",
    "        # Get the predicted labels\n",
    "        _, predictions = torch.max(outputs, 1)\n",
    "\n",
    "        # Convert predictions and labels to CPU tensors\n",
    "        predictions = predictions.cpu().numpy()\n",
    "        labels = labels.cpu().numpy()\n",
    "\n",
    "        # Store predictions and labels\n",
    "        all_predictions.extend(predictions)\n",
    "        all_labels.extend(labels)\n",
    "\n",
    "    # Compute metrics\n",
    "    accuracy, precision, recall, f1_score = calculate_metrics(all_labels, all_predictions)\n",
    "\n",
    "    # Print the metrics\n",
    "    print(f\"Model Name: {model_name}\")\n",
    "    print(f\"Accuracy: {accuracy}\")\n",
    "    print(f\"Precision: {precision}\")\n",
    "    print(f\"Recall: {recall}\")\n",
    "    print(f\"F1 Score: {f1_score}\\n\")"
   ]
  },
  {
   "attachments": {},
   "cell_type": "markdown",
   "metadata": {},
   "source": [
    "# Visualising layers"
   ]
  },
  {
   "cell_type": "code",
   "execution_count": 11,
   "metadata": {},
   "outputs": [],
   "source": [
    "def visualize_feature_maps(model, image):\n",
    "    \n",
    "    activations = []\n",
    "    layer_names = []\n",
    "\n",
    "    for name, module in model.named_modules():\n",
    "        layer_names.append(name)\n",
    "        activations.append(module(image))\n",
    "\n",
    "    fig, axs = plt.subplots(1, len(activations))\n",
    "    for i, activation in enumerate(activations):\n",
    "        axs[i].imshow(activation[0][0].detach().numpy(), cmap='gray')\n",
    "        axs[i].axis('off')\n",
    "        axs[i].set_title(layer_names[i])\n",
    "\n",
    "    plt.show()"
   ]
  },
  {
   "cell_type": "code",
   "execution_count": 53,
   "metadata": {},
   "outputs": [
    {
     "name": "stderr",
     "output_type": "stream",
     "text": [
      "Clipping input data to the valid range for imshow with RGB data ([0..1] for floats or [0..255] for integers).\n",
      "Clipping input data to the valid range for imshow with RGB data ([0..1] for floats or [0..255] for integers).\n",
      "Clipping input data to the valid range for imshow with RGB data ([0..1] for floats or [0..255] for integers).\n",
      "Clipping input data to the valid range for imshow with RGB data ([0..1] for floats or [0..255] for integers).\n",
      "Clipping input data to the valid range for imshow with RGB data ([0..1] for floats or [0..255] for integers).\n",
      "Clipping input data to the valid range for imshow with RGB data ([0..1] for floats or [0..255] for integers).\n",
      "Clipping input data to the valid range for imshow with RGB data ([0..1] for floats or [0..255] for integers).\n",
      "Clipping input data to the valid range for imshow with RGB data ([0..1] for floats or [0..255] for integers).\n",
      "Clipping input data to the valid range for imshow with RGB data ([0..1] for floats or [0..255] for integers).\n",
      "Clipping input data to the valid range for imshow with RGB data ([0..1] for floats or [0..255] for integers).\n",
      "Clipping input data to the valid range for imshow with RGB data ([0..1] for floats or [0..255] for integers).\n",
      "Clipping input data to the valid range for imshow with RGB data ([0..1] for floats or [0..255] for integers).\n",
      "Clipping input data to the valid range for imshow with RGB data ([0..1] for floats or [0..255] for integers).\n",
      "Clipping input data to the valid range for imshow with RGB data ([0..1] for floats or [0..255] for integers).\n",
      "Clipping input data to the valid range for imshow with RGB data ([0..1] for floats or [0..255] for integers).\n",
      "Clipping input data to the valid range for imshow with RGB data ([0..1] for floats or [0..255] for integers).\n",
      "Clipping input data to the valid range for imshow with RGB data ([0..1] for floats or [0..255] for integers).\n",
      "Clipping input data to the valid range for imshow with RGB data ([0..1] for floats or [0..255] for integers).\n",
      "Clipping input data to the valid range for imshow with RGB data ([0..1] for floats or [0..255] for integers).\n",
      "Clipping input data to the valid range for imshow with RGB data ([0..1] for floats or [0..255] for integers).\n",
      "Clipping input data to the valid range for imshow with RGB data ([0..1] for floats or [0..255] for integers).\n",
      "Clipping input data to the valid range for imshow with RGB data ([0..1] for floats or [0..255] for integers).\n",
      "Clipping input data to the valid range for imshow with RGB data ([0..1] for floats or [0..255] for integers).\n",
      "Clipping input data to the valid range for imshow with RGB data ([0..1] for floats or [0..255] for integers).\n",
      "Clipping input data to the valid range for imshow with RGB data ([0..1] for floats or [0..255] for integers).\n",
      "Clipping input data to the valid range for imshow with RGB data ([0..1] for floats or [0..255] for integers).\n",
      "Clipping input data to the valid range for imshow with RGB data ([0..1] for floats or [0..255] for integers).\n",
      "Clipping input data to the valid range for imshow with RGB data ([0..1] for floats or [0..255] for integers).\n",
      "Clipping input data to the valid range for imshow with RGB data ([0..1] for floats or [0..255] for integers).\n",
      "Clipping input data to the valid range for imshow with RGB data ([0..1] for floats or [0..255] for integers).\n",
      "Clipping input data to the valid range for imshow with RGB data ([0..1] for floats or [0..255] for integers).\n",
      "Clipping input data to the valid range for imshow with RGB data ([0..1] for floats or [0..255] for integers).\n",
      "Clipping input data to the valid range for imshow with RGB data ([0..1] for floats or [0..255] for integers).\n",
      "Clipping input data to the valid range for imshow with RGB data ([0..1] for floats or [0..255] for integers).\n",
      "Clipping input data to the valid range for imshow with RGB data ([0..1] for floats or [0..255] for integers).\n",
      "Clipping input data to the valid range for imshow with RGB data ([0..1] for floats or [0..255] for integers).\n",
      "Clipping input data to the valid range for imshow with RGB data ([0..1] for floats or [0..255] for integers).\n",
      "Clipping input data to the valid range for imshow with RGB data ([0..1] for floats or [0..255] for integers).\n",
      "Clipping input data to the valid range for imshow with RGB data ([0..1] for floats or [0..255] for integers).\n",
      "Clipping input data to the valid range for imshow with RGB data ([0..1] for floats or [0..255] for integers).\n",
      "Clipping input data to the valid range for imshow with RGB data ([0..1] for floats or [0..255] for integers).\n"
     ]
    },
    {
     "data": {
      "image/png": "[encoded data removed]",
      "text/plain": [
       "<Figure size 800x800 with 16 Axes>"
      ]
     },
     "metadata": {},
     "output_type": "display_data"
    },
    {
     "data": {
      "image/png": "[encoded data removed]",
      "text/plain": [
       "<Figure size 800x800 with 25 Axes>"
      ]
     },
     "metadata": {},
     "output_type": "display_data"
    }
   ],
   "source": [
    "for model_name in models:\n",
    "\n",
    "    model = models[model_name][\"model\"]()\n",
    "    model.load_state_dict(torch.load(f'model_saves/{model_name}.pth'))\n",
    "    model.eval()\n",
    "\n",
    "    # Iterate over the model's modules\n",
    "    for name, module in model.named_modules():\n",
    "\n",
    "        if isinstance(module, torch.nn.Conv2d):\n",
    "            # Get the filter weights for the convolutional layer\n",
    "            filter_weights = module.weight.data\n",
    "\n",
    "            # Visualize the filter weights as images\n",
    "            num_filters = filter_weights.size(0)\n",
    "            grid_size = int(num_filters ** 0.5)  # Calculate grid size for subplots\n",
    "\n",
    "            # Create a subplot for each filter\n",
    "            fig, axes = plt.subplots(grid_size, grid_size, figsize=(8, 8))\n",
    "\n",
    "            # Plot each filter weight\n",
    "            for i, ax in enumerate(axes.flat):\n",
    "                filter_weight = filter_weights[i]\n",
    "                filter_weight = filter_weight.cpu().numpy()\n",
    "                ax.imshow(filter_weight, cmap='gray')\n",
    "                ax.axis('off')\n",
    "\n",
    "            # Display the figure with the name of the convolutional layer\n",
    "            plt.suptitle(f\"{model_name}, {name}\")\n",
    "            plt.tight_layout()\n",
    "            plt.savefig(f\"layer_visualisations/{model_name}_{name}.png\")"
   ]
  },
  {
   "cell_type": "code",
   "execution_count": null,
   "metadata": {},
   "outputs": [],
   "source": []
  }
 ],
 "metadata": {
  "kernelspec": {
   "display_name": "Python 3",
   "language": "python",
   "name": "python3"
  },
  "language_info": {
   "codemirror_mode": {
    "name": "ipython",
    "version": 3
   },
   "file_extension": ".py",
   "mimetype": "text/x-python",
   "name": "python",
   "nbconvert_exporter": "python",
   "pygments_lexer": "ipython3",
   "version": "3.8.10"
  },
  "orig_nbformat": 4
 },
 "nbformat": 4,
 "nbformat_minor": 2
}
